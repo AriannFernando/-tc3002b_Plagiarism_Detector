{
  "nbformat": 4,
  "nbformat_minor": 0,
  "metadata": {
    "colab": {
      "provenance": []
    },
    "kernelspec": {
      "name": "python3",
      "display_name": "Python 3"
    },
    "language_info": {
      "name": "python"
    }
  },
  "cells": [
    {
      "cell_type": "code",
      "source": [
        "from google.colab import drive\n",
        "drive.mount(\"/content/gdrive\")\n",
        "!pwd\n",
        "%cd \"/content/gdrive/Shareddrives/PPEREZ IA/Dataset/Procesado2\"\n",
        "!ls"
      ],
      "metadata": {
        "colab": {
          "base_uri": "https://localhost:8080/"
        },
        "id": "P5xuNmnC3lkx",
        "outputId": "05bb4854-a09b-4a25-bdf9-73350ad6d02a"
      },
      "execution_count": 1,
      "outputs": [
        {
          "output_type": "stream",
          "name": "stdout",
          "text": [
            "Mounted at /content/gdrive\n",
            "/content\n",
            "/content/gdrive/Shareddrives/PPEREZ IA/Dataset/Procesado2\n",
            "x_test.csv  x_train.csv  y_test.csv  y_train.csv\n"
          ]
        }
      ]
    },
    {
      "cell_type": "code",
      "execution_count": 2,
      "metadata": {
        "id": "jkB5b8AVxV74"
      },
      "outputs": [],
      "source": [
        "import pandas as pd\n",
        "import seaborn as sns\n",
        "import matplotlib.pyplot as plt\n",
        "import numpy as np\n",
        "import xgboost as xgb\n",
        "from xgboost import XGBClassifier\n",
        "from sklearn.linear_model import LogisticRegression\n",
        "from sklearn.ensemble import RandomForestClassifier\n",
        "from sklearn.metrics import accuracy_score, classification_report, confusion_matrix\n",
        "from sklearn.model_selection import cross_val_score\n",
        "from sklearn.model_selection import GridSearchCV"
      ]
    },
    {
      "cell_type": "code",
      "source": [
        "df = pd.read_csv('x_train.csv')\n",
        "# df_x_train = pd.read_csv('x_train.csv')\n",
        "df_y_train = pd.read_csv('y_train.csv')\n",
        "\n",
        "df2 = pd.read_csv('x_test.csv')\n",
        "# df_x_test = pd.read_csv('x_test.csv')\n",
        "df_y_test = pd.read_csv('y_test.csv')"
      ],
      "metadata": {
        "id": "X9W966jx7flC"
      },
      "execution_count": 3,
      "outputs": []
    },
    {
      "cell_type": "markdown",
      "source": [
        "## Preprocesado del dataframe"
      ],
      "metadata": {
        "id": "uh9Cw-T5qohJ"
      }
    },
    {
      "cell_type": "code",
      "source": [
        "# df_x_train = df_x_train.drop(columns=['differenceVector'])"
      ],
      "metadata": {
        "id": "QnzQracvl7fk"
      },
      "execution_count": 4,
      "outputs": []
    },
    {
      "cell_type": "code",
      "source": [
        "# df_x_test = df_x_test.drop(columns=['differenceVector'])"
      ],
      "metadata": {
        "id": "gez7Eo33mDtj"
      },
      "execution_count": 5,
      "outputs": []
    },
    {
      "cell_type": "code",
      "source": [
        "def string_to_numpy_array(s):\n",
        "    # Remove square brackets and split by whitespace\n",
        "    s = s.strip(\"[]\")\n",
        "    elements = [float(e) for e in s.split()]\n",
        "    return np.array(elements)\n",
        "\n",
        "# Apply the custom function to the 'differenceVector' column\n",
        "df['differenceVector'] = df['differenceVector'].apply(string_to_numpy_array)\n",
        "df2['differenceVector'] = df2['differenceVector'].apply(string_to_numpy_array)"
      ],
      "metadata": {
        "id": "_oGFViv-87gq"
      },
      "execution_count": 6,
      "outputs": []
    },
    {
      "cell_type": "code",
      "source": [
        "vectors_list = df['differenceVector'].tolist()\n",
        "columns_to_include = ['cosSimMeanDistComments','cosSimMarkovComments','cosSimTokens','cosSim', 'euclidean', 'manhattan', 'jaccard', 'differenceVector']\n",
        "selected_columns = df[columns_to_include]\n",
        "df_x_train = selected_columns.drop(columns=['differenceVector'])\n",
        "df_x_train = pd.concat([df['differenceVector'].apply(pd.Series), df_x_train], axis=1)"
      ],
      "metadata": {
        "id": "9APXNzbBCQvC"
      },
      "execution_count": 7,
      "outputs": []
    },
    {
      "cell_type": "code",
      "source": [
        "vectors_list = df2['differenceVector'].tolist()\n",
        "columns_to_include = ['cosSimMeanDistComments','cosSimMarkovComments','cosSimTokens','cosSim', 'euclidean', 'manhattan', 'jaccard', 'differenceVector']\n",
        "selected_columns = df2[columns_to_include]\n",
        "df_x_test = selected_columns.drop(columns=['differenceVector'])\n",
        "df_x_test = pd.concat([df2['differenceVector'].apply(pd.Series), df_x_test], axis=1)"
      ],
      "metadata": {
        "id": "O9-Nj4T9Xyav"
      },
      "execution_count": 8,
      "outputs": []
    },
    {
      "cell_type": "code",
      "source": [
        "print(\"df_x_train DataFrame:\")\n",
        "print(df_x_train)"
      ],
      "metadata": {
        "colab": {
          "base_uri": "https://localhost:8080/"
        },
        "id": "q_06ZjA5Dzyn",
        "outputId": "dcf71924-e1af-4ab2-ade5-f22a3d9a36a9"
      },
      "execution_count": 9,
      "outputs": [
        {
          "output_type": "stream",
          "name": "stdout",
          "text": [
            "df_x_train DataFrame:\n",
            "            0         1         2    3    4         5         6    7  \\\n",
            "0    0.000000  0.007937  0.182540  0.0  0.0 -0.047619  0.000000  0.0   \n",
            "1    0.000000  0.017241 -0.007543  0.0  0.0 -0.009698  0.000000  0.0   \n",
            "2    0.000000  0.044444 -0.044444  0.0  0.0  0.000000  0.000000  0.0   \n",
            "3    0.000000  0.064935 -0.071429  0.0  0.0  0.006494  0.000000  0.0   \n",
            "4    0.000000 -0.065611  0.047511  0.0  0.0  0.018100  0.000000  0.0   \n",
            "..        ...       ...       ...  ...  ...       ...       ...  ...   \n",
            "735  0.000000  0.000000  0.000000  0.0  0.0  0.000000  0.000000  0.0   \n",
            "736  0.000000 -0.063077  0.058462  0.0  0.0  0.000000  0.001538  0.0   \n",
            "737  0.028521 -0.104278  0.046346  0.0  0.0  0.029412  0.000000  0.0   \n",
            "738  0.002679 -0.016964  0.011607  0.0  0.0  0.002679  0.000000  0.0   \n",
            "739  0.000000 -0.102757  0.097744  0.0  0.0  0.005013  0.000000  0.0   \n",
            "\n",
            "            8         9  ...  141  142  143  cosSimMeanDistComments  \\\n",
            "0   -0.142857  0.000000  ...  NaN  NaN  NaN                     0.0   \n",
            "1    0.003452 -0.005124  ...  NaN  NaN  NaN                     1.0   \n",
            "2    0.000000  0.000000  ...  NaN  NaN  NaN                     0.0   \n",
            "3   -0.013493 -0.017202  ...  NaN  NaN  NaN                     0.0   \n",
            "4    0.000000  0.027282  ...  NaN  NaN  NaN                     0.0   \n",
            "..        ...       ...  ...  ...  ...  ...                     ...   \n",
            "735  0.000000  0.000000  ...  NaN  NaN  NaN                     1.0   \n",
            "736  0.003077  0.000000  ...  NaN  NaN  NaN                     0.0   \n",
            "737  0.000000  0.000000  ...  NaN  NaN  NaN                     0.0   \n",
            "738  0.000000  0.000000  ...  NaN  NaN  NaN                     1.0   \n",
            "739  0.000000  0.000000  ...  NaN  NaN  NaN                     1.0   \n",
            "\n",
            "     cosSimMarkovComments  cosSimTokens    cosSim  euclidean  manhattan  \\\n",
            "0                       0      0.951786  0.951786   0.736335   2.594521   \n",
            "1                       0      0.999114  0.999114   0.076311   0.234637   \n",
            "2                       0      0.718073  0.718073   1.676246   5.312518   \n",
            "3                       0      0.984184  0.984184   0.354499   1.131973   \n",
            "4                       0      0.997465  0.997465   0.156988   0.553468   \n",
            "..                    ...           ...       ...        ...        ...   \n",
            "735                     0      0.541320  0.541320   2.275442   6.497201   \n",
            "736                     0      0.982387  0.982387   0.436829   1.368951   \n",
            "737                     0      0.975833  0.975833   0.539770   2.404893   \n",
            "738                     0      0.940043  0.940043   0.800902   2.216968   \n",
            "739                     0      0.887413  0.887413   1.077404   2.308202   \n",
            "\n",
            "      jaccard  \n",
            "0    0.933333  \n",
            "1    0.958333  \n",
            "2    0.935484  \n",
            "3    0.913043  \n",
            "4    0.840000  \n",
            "..        ...  \n",
            "735  0.741935  \n",
            "736  0.758621  \n",
            "737  0.972973  \n",
            "738  0.837838  \n",
            "739  0.821429  \n",
            "\n",
            "[740 rows x 151 columns]\n"
          ]
        }
      ]
    },
    {
      "cell_type": "code",
      "source": [
        "print(\"df_x_test DataFrame:\")\n",
        "print(df_x_test)"
      ],
      "metadata": {
        "colab": {
          "base_uri": "https://localhost:8080/"
        },
        "id": "2xdN3zC2YAQC",
        "outputId": "dc7e3c0d-0e6a-4de9-b97a-fb7b1ac71498"
      },
      "execution_count": 10,
      "outputs": [
        {
          "output_type": "stream",
          "name": "stdout",
          "text": [
            "df_x_test DataFrame:\n",
            "            0         1         2    3    4         5         6         7  \\\n",
            "0    0.000000 -0.024476  0.010490  0.0  0.0  0.013986  0.000000  0.000000   \n",
            "1    0.000000  0.173077  0.000000  0.0  0.0 -0.173077  0.000000  0.000000   \n",
            "2   -0.027778 -0.021368  0.027778  0.0  0.0  0.021368  0.000000  0.000000   \n",
            "3   -0.011364 -0.037879  0.049242  0.0  0.0  0.000000  0.000000  0.000000   \n",
            "4    0.000000 -0.131579  0.093301  0.0  0.0  0.038278  0.000000  0.000000   \n",
            "..        ...       ...       ...  ...  ...       ...       ...       ...   \n",
            "250 -0.033481 -0.221460  0.150464  0.0  0.0  0.000000  0.000000  0.104478   \n",
            "251  0.002747 -0.038462  0.035714  0.0  0.0  0.000000  0.000000  0.000000   \n",
            "252  0.019608 -0.033613  0.030812  0.0  0.0  0.000000 -0.012605  0.000000   \n",
            "253  0.041126 -0.031385 -0.009740  0.0  0.0  0.000000  0.000000  0.000000   \n",
            "254 -0.008961 -0.080645  0.047491  0.0  0.0  0.027778  0.000000  0.000000   \n",
            "\n",
            "            8         9  ...  141  142  143  cosSimMeanDistComments  \\\n",
            "0   -0.003115  0.084328  ...  NaN  NaN  NaN                0.000000   \n",
            "1    0.006993 -0.001271  ...  NaN  NaN  NaN                0.000000   \n",
            "2    0.000000 -0.027228  ...  NaN  NaN  NaN                0.173183   \n",
            "3    0.000000  0.000000  ...  NaN  NaN  NaN                1.000000   \n",
            "4    0.000000 -0.041730  ...  NaN  NaN  NaN                0.000000   \n",
            "..        ...       ...  ...  ...  ...  ...                     ...   \n",
            "250  0.000000  0.000000  ...  NaN  NaN  NaN                1.000000   \n",
            "251  0.000000  0.000000  ...  NaN  NaN  NaN                1.000000   \n",
            "252 -0.004202  0.000000  ...  NaN  NaN  NaN                1.000000   \n",
            "253  0.000000  0.000000  ...  NaN  NaN  NaN                1.000000   \n",
            "254 -0.032258  0.046595  ...  NaN  NaN  NaN                1.000000   \n",
            "\n",
            "     cosSimMarkovComments  cosSimTokens    cosSim  euclidean  manhattan  \\\n",
            "0                       0      0.984851  0.984851   0.347117   0.973055   \n",
            "1                       0      0.976789  0.976789   0.454469   1.792066   \n",
            "2                       0      0.960002  0.960002   0.573058   2.041670   \n",
            "3                       0      0.997196  0.997196   0.168968   0.528626   \n",
            "4                       0      0.987423  0.987423   0.350434   1.316110   \n",
            "..                    ...           ...       ...        ...        ...   \n",
            "250                     0      0.642313  0.642313   2.136895   7.245915   \n",
            "251                     0      0.682846  0.682846   1.829498   5.827986   \n",
            "252                     0      0.998256  0.998256   0.155217   0.647131   \n",
            "253                     0      0.929464  0.929464   0.927026   1.867538   \n",
            "254                     0      0.886780  0.886780   1.252062   4.421196   \n",
            "\n",
            "      jaccard  \n",
            "0    0.958333  \n",
            "1    0.933333  \n",
            "2    0.935484  \n",
            "3    0.733333  \n",
            "4    0.962963  \n",
            "..        ...  \n",
            "250  0.975000  \n",
            "251  0.914286  \n",
            "252  0.763158  \n",
            "253  0.906250  \n",
            "254  0.954545  \n",
            "\n",
            "[255 rows x 151 columns]\n"
          ]
        }
      ]
    },
    {
      "cell_type": "code",
      "source": [
        "df_x_train_filled = df_x_train.fillna(0)"
      ],
      "metadata": {
        "id": "Pah9wNWXXZwh"
      },
      "execution_count": 11,
      "outputs": []
    },
    {
      "cell_type": "code",
      "source": [
        "df_x_test_filled = df_x_test.fillna(0)"
      ],
      "metadata": {
        "id": "Md8sO3LKYHh9"
      },
      "execution_count": 12,
      "outputs": []
    },
    {
      "cell_type": "code",
      "source": [
        "df_x_test_filled.columns = df_x_test_filled.columns.astype(str)"
      ],
      "metadata": {
        "id": "D-IF-PsJfQef"
      },
      "execution_count": 13,
      "outputs": []
    },
    {
      "cell_type": "code",
      "source": [
        "# column_numbers = range(960, 899, -1)\n",
        "\n",
        "# # Get the index position of the column 'cosSimTokens'\n",
        "# insert_index = df_x_test_filled.columns.get_loc('cosSimMeanDistComments')\n",
        "\n",
        "# # Add the new columns to df_x_test_filled and fill them with zeros\n",
        "# for col_number in column_numbers:\n",
        "#     col_name = str(col_number)\n",
        "#     df_x_test_filled.insert(insert_index, col_name, 0)"
      ],
      "metadata": {
        "id": "NrVrsxQdduAy"
      },
      "execution_count": 14,
      "outputs": []
    },
    {
      "cell_type": "code",
      "source": [
        "# columns_list = df_x_test_filled.columns.tolist()\n",
        "# print(columns_list)"
      ],
      "metadata": {
        "id": "LoRZVc64ee_E"
      },
      "execution_count": 15,
      "outputs": []
    },
    {
      "cell_type": "code",
      "source": [
        "print(df_x_test_filled)"
      ],
      "metadata": {
        "colab": {
          "base_uri": "https://localhost:8080/"
        },
        "id": "YqyW14ZFeDxo",
        "outputId": "47155828-4dcb-4d87-a522-47dccf720515"
      },
      "execution_count": 16,
      "outputs": [
        {
          "output_type": "stream",
          "name": "stdout",
          "text": [
            "            0         1         2    3    4         5         6         7  \\\n",
            "0    0.000000 -0.024476  0.010490  0.0  0.0  0.013986  0.000000  0.000000   \n",
            "1    0.000000  0.173077  0.000000  0.0  0.0 -0.173077  0.000000  0.000000   \n",
            "2   -0.027778 -0.021368  0.027778  0.0  0.0  0.021368  0.000000  0.000000   \n",
            "3   -0.011364 -0.037879  0.049242  0.0  0.0  0.000000  0.000000  0.000000   \n",
            "4    0.000000 -0.131579  0.093301  0.0  0.0  0.038278  0.000000  0.000000   \n",
            "..        ...       ...       ...  ...  ...       ...       ...       ...   \n",
            "250 -0.033481 -0.221460  0.150464  0.0  0.0  0.000000  0.000000  0.104478   \n",
            "251  0.002747 -0.038462  0.035714  0.0  0.0  0.000000  0.000000  0.000000   \n",
            "252  0.019608 -0.033613  0.030812  0.0  0.0  0.000000 -0.012605  0.000000   \n",
            "253  0.041126 -0.031385 -0.009740  0.0  0.0  0.000000  0.000000  0.000000   \n",
            "254 -0.008961 -0.080645  0.047491  0.0  0.0  0.027778  0.000000  0.000000   \n",
            "\n",
            "            8         9  ...  141  142  143  cosSimMeanDistComments  \\\n",
            "0   -0.003115  0.084328  ...  0.0  0.0  0.0                0.000000   \n",
            "1    0.006993 -0.001271  ...  0.0  0.0  0.0                0.000000   \n",
            "2    0.000000 -0.027228  ...  0.0  0.0  0.0                0.173183   \n",
            "3    0.000000  0.000000  ...  0.0  0.0  0.0                1.000000   \n",
            "4    0.000000 -0.041730  ...  0.0  0.0  0.0                0.000000   \n",
            "..        ...       ...  ...  ...  ...  ...                     ...   \n",
            "250  0.000000  0.000000  ...  0.0  0.0  0.0                1.000000   \n",
            "251  0.000000  0.000000  ...  0.0  0.0  0.0                1.000000   \n",
            "252 -0.004202  0.000000  ...  0.0  0.0  0.0                1.000000   \n",
            "253  0.000000  0.000000  ...  0.0  0.0  0.0                1.000000   \n",
            "254 -0.032258  0.046595  ...  0.0  0.0  0.0                1.000000   \n",
            "\n",
            "     cosSimMarkovComments  cosSimTokens    cosSim  euclidean  manhattan  \\\n",
            "0                       0      0.984851  0.984851   0.347117   0.973055   \n",
            "1                       0      0.976789  0.976789   0.454469   1.792066   \n",
            "2                       0      0.960002  0.960002   0.573058   2.041670   \n",
            "3                       0      0.997196  0.997196   0.168968   0.528626   \n",
            "4                       0      0.987423  0.987423   0.350434   1.316110   \n",
            "..                    ...           ...       ...        ...        ...   \n",
            "250                     0      0.642313  0.642313   2.136895   7.245915   \n",
            "251                     0      0.682846  0.682846   1.829498   5.827986   \n",
            "252                     0      0.998256  0.998256   0.155217   0.647131   \n",
            "253                     0      0.929464  0.929464   0.927026   1.867538   \n",
            "254                     0      0.886780  0.886780   1.252062   4.421196   \n",
            "\n",
            "      jaccard  \n",
            "0    0.958333  \n",
            "1    0.933333  \n",
            "2    0.935484  \n",
            "3    0.733333  \n",
            "4    0.962963  \n",
            "..        ...  \n",
            "250  0.975000  \n",
            "251  0.914286  \n",
            "252  0.763158  \n",
            "253  0.906250  \n",
            "254  0.954545  \n",
            "\n",
            "[255 rows x 151 columns]\n"
          ]
        }
      ]
    },
    {
      "cell_type": "code",
      "source": [
        "df_x_train_filled.columns = df_x_train_filled.columns.astype(str)"
      ],
      "metadata": {
        "id": "vtp2aCB7Yljr"
      },
      "execution_count": 17,
      "outputs": []
    },
    {
      "cell_type": "code",
      "source": [
        "print(df_y_train)"
      ],
      "metadata": {
        "colab": {
          "base_uri": "https://localhost:8080/"
        },
        "id": "b0-E0zZpaMLC",
        "outputId": "465f9373-6859-4b09-ffab-5850f9c97aef"
      },
      "execution_count": 18,
      "outputs": [
        {
          "output_type": "stream",
          "name": "stdout",
          "text": [
            "     veredict\n",
            "0           0\n",
            "1           1\n",
            "2           0\n",
            "3           0\n",
            "4           0\n",
            "..        ...\n",
            "735         1\n",
            "736         1\n",
            "737         1\n",
            "738         1\n",
            "739         1\n",
            "\n",
            "[740 rows x 1 columns]\n"
          ]
        }
      ]
    },
    {
      "cell_type": "code",
      "source": [
        "# Convert y_train to 1D array\n",
        "df_y_train = df_y_train.values.ravel()"
      ],
      "metadata": {
        "id": "PPlNQ5QFqPJ8"
      },
      "execution_count": 19,
      "outputs": []
    },
    {
      "cell_type": "code",
      "source": [
        "df_y_test = df_y_test.values.ravel()"
      ],
      "metadata": {
        "id": "ntsaNPEnqO52"
      },
      "execution_count": 20,
      "outputs": []
    },
    {
      "cell_type": "markdown",
      "source": [
        "## Best L2 Params"
      ],
      "metadata": {
        "id": "DNLROv6AtUFS"
      }
    },
    {
      "cell_type": "code",
      "source": [
        "# param_grid = {\n",
        "#     'penalty': ['l2'],\n",
        "#     'C': [0.0001, 0.001, 0.01, 0.1, 1, 10],\n",
        "#     'tol': [1e-4, 1e-3, 1e-2],\n",
        "#     'fit_intercept': [True, False],\n",
        "#     'solver': ['lbfgs', 'liblinear'],\n",
        "#     'max_iter': [100, 500, 1000],\n",
        "#     'class_weight': [None, 'balanced']\n",
        "# }\n",
        "\n",
        "# # Initialize GridSearchCV\n",
        "# grid_search = GridSearchCV(LogisticRegression(), param_grid, cv=5, n_jobs=-1)\n",
        "\n",
        "# # Fit the model\n",
        "# grid_search.fit(df_x_train_filled, df_y_train)\n",
        "\n",
        "# # Best parameters found\n",
        "# print(\"Best parameters for LogisticRegression:\", grid_search.best_params_)"
      ],
      "metadata": {
        "id": "URpzW8fOdZcv"
      },
      "execution_count": 22,
      "outputs": []
    },
    {
      "cell_type": "code",
      "source": [
        "# param_grid_rf = {\n",
        "#     'n_estimators': [100, 200, 300],\n",
        "#     'max_depth': [10, 20, 30],\n",
        "#     'min_samples_split': [2, 5, 10],\n",
        "#     'min_samples_leaf': [1, 2, 4],\n",
        "#     'min_impurity_decrease': [0.0001, 0.001, 0.01, 0.002, 0.02, 0.2]  # L2-like parameter for tree regularization\n",
        "# }\n",
        "# # Initialize GridSearchCV with 5-fold cross-validation\n",
        "# grid_search_rf = GridSearchCV(RandomForestClassifier(), param_grid_rf, cv=5)\n",
        "\n",
        "# # Fit the model\n",
        "# grid_search_rf.fit(df_x_train_filled, df_y_train)\n",
        "\n",
        "# # Best parameters found\n",
        "# print(\"Best parameters for RandomForestClassifier:\", grid_search_rf.best_params_)"
      ],
      "metadata": {
        "id": "sdSHPQqwvnYr"
      },
      "execution_count": 23,
      "outputs": []
    },
    {
      "cell_type": "code",
      "source": [
        "# param_grid_xgb = {\n",
        "#     'n_estimators': [100, 200, 300],\n",
        "#     'learning_rate': [0.001, 0.01, 0.1],\n",
        "#     'max_depth': [3, 6, 9],\n",
        "#     'subsample': [0.7, 0.8, 0.9],\n",
        "#     # 'reg_alpha': [0, 0.1, 0.5, 1],\n",
        "#     'reg_lambda': [0.0001, 0.001, 0.01, 0.002, 0.02] # L2-like parameter\n",
        "# }\n",
        "# # Initialize GridSearchCV with 5-fold cross-validation\n",
        "# grid_search_xgb = GridSearchCV(XGBClassifier(use_label_encoder=False, eval_metric='error'), param_grid_xgb, cv=5)\n",
        "\n",
        "# # Fit the model\n",
        "# grid_search_xgb.fit(df_x_train_filled, df_y_train)\n",
        "\n",
        "# # Best parameters found\n",
        "# print(\"Best parameters for XGBClassifier:\", grid_search_xgb.best_params_)"
      ],
      "metadata": {
        "id": "JAEI7v-2woSN"
      },
      "execution_count": 24,
      "outputs": []
    },
    {
      "cell_type": "markdown",
      "source": [
        "## MODELO 1 (Logistic)"
      ],
      "metadata": {
        "id": "Zc_dRGOn9r2j"
      }
    },
    {
      "cell_type": "code",
      "source": [
        "model1 = LogisticRegression(penalty='l2', C=0.0002, max_iter=1000, class_weight = \"balanced\", fit_intercept = False, solver = \"lbfgs\", tol = 0.0001)"
      ],
      "metadata": {
        "id": "9V-ZZogY9qVU"
      },
      "execution_count": 25,
      "outputs": []
    },
    {
      "cell_type": "code",
      "source": [
        "model1.fit(df_x_train_filled, df_y_train)"
      ],
      "metadata": {
        "id": "lFCK8z9CCb9Y",
        "colab": {
          "base_uri": "https://localhost:8080/",
          "height": 92
        },
        "outputId": "7de12b8f-107c-41b3-da4e-0c38e22d9dd9"
      },
      "execution_count": 26,
      "outputs": [
        {
          "output_type": "execute_result",
          "data": {
            "text/plain": [
              "LogisticRegression(C=0.0002, class_weight='balanced', fit_intercept=False,\n",
              "                   max_iter=1000)"
            ],
            "text/html": [
              "<style>#sk-container-id-1 {color: black;background-color: white;}#sk-container-id-1 pre{padding: 0;}#sk-container-id-1 div.sk-toggleable {background-color: white;}#sk-container-id-1 label.sk-toggleable__label {cursor: pointer;display: block;width: 100%;margin-bottom: 0;padding: 0.3em;box-sizing: border-box;text-align: center;}#sk-container-id-1 label.sk-toggleable__label-arrow:before {content: \"▸\";float: left;margin-right: 0.25em;color: #696969;}#sk-container-id-1 label.sk-toggleable__label-arrow:hover:before {color: black;}#sk-container-id-1 div.sk-estimator:hover label.sk-toggleable__label-arrow:before {color: black;}#sk-container-id-1 div.sk-toggleable__content {max-height: 0;max-width: 0;overflow: hidden;text-align: left;background-color: #f0f8ff;}#sk-container-id-1 div.sk-toggleable__content pre {margin: 0.2em;color: black;border-radius: 0.25em;background-color: #f0f8ff;}#sk-container-id-1 input.sk-toggleable__control:checked~div.sk-toggleable__content {max-height: 200px;max-width: 100%;overflow: auto;}#sk-container-id-1 input.sk-toggleable__control:checked~label.sk-toggleable__label-arrow:before {content: \"▾\";}#sk-container-id-1 div.sk-estimator input.sk-toggleable__control:checked~label.sk-toggleable__label {background-color: #d4ebff;}#sk-container-id-1 div.sk-label input.sk-toggleable__control:checked~label.sk-toggleable__label {background-color: #d4ebff;}#sk-container-id-1 input.sk-hidden--visually {border: 0;clip: rect(1px 1px 1px 1px);clip: rect(1px, 1px, 1px, 1px);height: 1px;margin: -1px;overflow: hidden;padding: 0;position: absolute;width: 1px;}#sk-container-id-1 div.sk-estimator {font-family: monospace;background-color: #f0f8ff;border: 1px dotted black;border-radius: 0.25em;box-sizing: border-box;margin-bottom: 0.5em;}#sk-container-id-1 div.sk-estimator:hover {background-color: #d4ebff;}#sk-container-id-1 div.sk-parallel-item::after {content: \"\";width: 100%;border-bottom: 1px solid gray;flex-grow: 1;}#sk-container-id-1 div.sk-label:hover label.sk-toggleable__label {background-color: #d4ebff;}#sk-container-id-1 div.sk-serial::before {content: \"\";position: absolute;border-left: 1px solid gray;box-sizing: border-box;top: 0;bottom: 0;left: 50%;z-index: 0;}#sk-container-id-1 div.sk-serial {display: flex;flex-direction: column;align-items: center;background-color: white;padding-right: 0.2em;padding-left: 0.2em;position: relative;}#sk-container-id-1 div.sk-item {position: relative;z-index: 1;}#sk-container-id-1 div.sk-parallel {display: flex;align-items: stretch;justify-content: center;background-color: white;position: relative;}#sk-container-id-1 div.sk-item::before, #sk-container-id-1 div.sk-parallel-item::before {content: \"\";position: absolute;border-left: 1px solid gray;box-sizing: border-box;top: 0;bottom: 0;left: 50%;z-index: -1;}#sk-container-id-1 div.sk-parallel-item {display: flex;flex-direction: column;z-index: 1;position: relative;background-color: white;}#sk-container-id-1 div.sk-parallel-item:first-child::after {align-self: flex-end;width: 50%;}#sk-container-id-1 div.sk-parallel-item:last-child::after {align-self: flex-start;width: 50%;}#sk-container-id-1 div.sk-parallel-item:only-child::after {width: 0;}#sk-container-id-1 div.sk-dashed-wrapped {border: 1px dashed gray;margin: 0 0.4em 0.5em 0.4em;box-sizing: border-box;padding-bottom: 0.4em;background-color: white;}#sk-container-id-1 div.sk-label label {font-family: monospace;font-weight: bold;display: inline-block;line-height: 1.2em;}#sk-container-id-1 div.sk-label-container {text-align: center;}#sk-container-id-1 div.sk-container {/* jupyter's `normalize.less` sets `[hidden] { display: none; }` but bootstrap.min.css set `[hidden] { display: none !important; }` so we also need the `!important` here to be able to override the default hidden behavior on the sphinx rendered scikit-learn.org. See: https://github.com/scikit-learn/scikit-learn/issues/21755 */display: inline-block !important;position: relative;}#sk-container-id-1 div.sk-text-repr-fallback {display: none;}</style><div id=\"sk-container-id-1\" class=\"sk-top-container\"><div class=\"sk-text-repr-fallback\"><pre>LogisticRegression(C=0.0002, class_weight=&#x27;balanced&#x27;, fit_intercept=False,\n",
              "                   max_iter=1000)</pre><b>In a Jupyter environment, please rerun this cell to show the HTML representation or trust the notebook. <br />On GitHub, the HTML representation is unable to render, please try loading this page with nbviewer.org.</b></div><div class=\"sk-container\" hidden><div class=\"sk-item\"><div class=\"sk-estimator sk-toggleable\"><input class=\"sk-toggleable__control sk-hidden--visually\" id=\"sk-estimator-id-1\" type=\"checkbox\" checked><label for=\"sk-estimator-id-1\" class=\"sk-toggleable__label sk-toggleable__label-arrow\">LogisticRegression</label><div class=\"sk-toggleable__content\"><pre>LogisticRegression(C=0.0002, class_weight=&#x27;balanced&#x27;, fit_intercept=False,\n",
              "                   max_iter=1000)</pre></div></div></div></div></div>"
            ]
          },
          "metadata": {},
          "execution_count": 26
        }
      ]
    },
    {
      "cell_type": "code",
      "source": [
        "# Make predictions on the training set\n",
        "y_pred_train = model1.predict(df_x_train_filled)\n",
        "\n",
        "# Calculate the accuracy of the model on the training set\n",
        "accuracy_train = accuracy_score(df_y_train, y_pred_train)\n",
        "\n",
        "# Print the accuracy on the training set\n",
        "print (\"-------Logistic Results----------\")\n",
        "print(\"Model accuracy on the training set:\", accuracy_train)\n",
        "\n",
        "# Make predictions on the test set\n",
        "y_pred_test = model1.predict(df_x_test_filled)\n",
        "\n",
        "# Calculate the accuracy of the model on the test set\n",
        "accuracy_test = accuracy_score(df_y_test, y_pred_test)\n",
        "\n",
        "# Print the accuracy on the test set\n",
        "print(\"Model accuracy on the test set:\", accuracy_test)\n",
        "\n",
        "# Cross_val\n",
        "# Perform cross-validation on the training set\n",
        "cross_val_scores = cross_val_score(model1, df_x_train_filled, df_y_train, cv=5, scoring=\"accuracy\")\n",
        "cross_val_mean = cross_val_scores.mean()\n",
        "\n",
        "# Print cross-validation accuracy\n",
        "print(\"Model accuracy on the validation set (cross-validation):\", cross_val_mean)\n",
        "\n",
        "# Display the confusion matrix and classification report for the test set\n",
        "conf_matrix = confusion_matrix(df_y_test, y_pred_test)\n",
        "class_report = classification_report(df_y_test, y_pred_test)\n",
        "\n",
        "print('Confusion Matrix for the test set:')\n",
        "print(conf_matrix)\n",
        "\n",
        "plt.figure(figsize=(8, 6))\n",
        "sns.heatmap(conf_matrix, annot=True, fmt='d', cmap='viridis', cbar=False)\n",
        "plt.ylabel('Actual')\n",
        "plt.xlabel('Predicted')\n",
        "plt.title('Confusion Matrix')\n",
        "plt.show()\n",
        "\n",
        "print('\\nClassification Report for the test set:')\n",
        "print(class_report)"
      ],
      "metadata": {
        "id": "9jH59O7-_93F",
        "colab": {
          "base_uri": "https://localhost:8080/",
          "height": 876
        },
        "outputId": "aed54dfb-8ae9-4e54-bcb9-e8e9378d6bcc"
      },
      "execution_count": 27,
      "outputs": [
        {
          "output_type": "stream",
          "name": "stdout",
          "text": [
            "-------Logistic Results----------\n",
            "Model accuracy on the training set: 0.7581081081081081\n",
            "Model accuracy on the test set: 0.7215686274509804\n",
            "Model accuracy on the validation set (cross-validation): 0.758108108108108\n",
            "Confusion Matrix for the test set:\n",
            "[[165   0]\n",
            " [ 71  19]]\n"
          ]
        },
        {
          "output_type": "display_data",
          "data": {
            "text/plain": [
              "<Figure size 800x600 with 1 Axes>"
            ],
            "image/png": "[encoded data removed]"
          },
          "metadata": {}
        },
        {
          "output_type": "stream",
          "name": "stdout",
          "text": [
            "\n",
            "Classification Report for the test set:\n",
            "              precision    recall  f1-score   support\n",
            "\n",
            "           0       0.70      1.00      0.82       165\n",
            "           1       1.00      0.21      0.35        90\n",
            "\n",
            "    accuracy                           0.72       255\n",
            "   macro avg       0.85      0.61      0.59       255\n",
            "weighted avg       0.81      0.72      0.66       255\n",
            "\n"
          ]
        }
      ]
    },
    {
      "cell_type": "markdown",
      "source": [
        "## Modelo 2 (Random Forest)"
      ],
      "metadata": {
        "id": "6sCFvK5UE6ob"
      }
    },
    {
      "cell_type": "code",
      "source": [
        "from sklearn.utils.class_weight import compute_class_weight\n",
        "# Convert to dictionary format required by the classifier\n",
        "class_weight_dict = {0: 1, 1: 4}"
      ],
      "metadata": {
        "id": "lqtEe-To11Ua"
      },
      "execution_count": 71,
      "outputs": []
    },
    {
      "cell_type": "code",
      "source": [
        "model2 = RandomForestClassifier(class_weight = class_weight_dict, min_impurity_decrease = 0.00005, max_depth = 10, min_samples_leaf = 4, min_samples_split = 8, n_estimators = 3000, random_state=42, criterion='gini', max_features='sqrt', bootstrap=True, warm_start=True)"
      ],
      "metadata": {
        "id": "zxprlVBxE59h"
      },
      "execution_count": 72,
      "outputs": []
    },
    {
      "cell_type": "code",
      "source": [
        "model2.fit(df_x_train_filled, df_y_train)"
      ],
      "metadata": {
        "id": "4EJ_6DtZFMo7",
        "colab": {
          "base_uri": "https://localhost:8080/",
          "height": 127
        },
        "outputId": "2fca927d-173f-4774-8c6e-18c2fae7a414"
      },
      "execution_count": 73,
      "outputs": [
        {
          "output_type": "execute_result",
          "data": {
            "text/plain": [
              "RandomForestClassifier(class_weight={0: 1, 1: 4}, max_depth=10,\n",
              "                       min_impurity_decrease=5e-05, min_samples_leaf=4,\n",
              "                       min_samples_split=8, n_estimators=3000, random_state=42,\n",
              "                       warm_start=True)"
            ],
            "text/html": [
              "<style>#sk-container-id-13 {color: black;background-color: white;}#sk-container-id-13 pre{padding: 0;}#sk-container-id-13 div.sk-toggleable {background-color: white;}#sk-container-id-13 label.sk-toggleable__label {cursor: pointer;display: block;width: 100%;margin-bottom: 0;padding: 0.3em;box-sizing: border-box;text-align: center;}#sk-container-id-13 label.sk-toggleable__label-arrow:before {content: \"▸\";float: left;margin-right: 0.25em;color: #696969;}#sk-container-id-13 label.sk-toggleable__label-arrow:hover:before {color: black;}#sk-container-id-13 div.sk-estimator:hover label.sk-toggleable__label-arrow:before {color: black;}#sk-container-id-13 div.sk-toggleable__content {max-height: 0;max-width: 0;overflow: hidden;text-align: left;background-color: #f0f8ff;}#sk-container-id-13 div.sk-toggleable__content pre {margin: 0.2em;color: black;border-radius: 0.25em;background-color: #f0f8ff;}#sk-container-id-13 input.sk-toggleable__control:checked~div.sk-toggleable__content {max-height: 200px;max-width: 100%;overflow: auto;}#sk-container-id-13 input.sk-toggleable__control:checked~label.sk-toggleable__label-arrow:before {content: \"▾\";}#sk-container-id-13 div.sk-estimator input.sk-toggleable__control:checked~label.sk-toggleable__label {background-color: #d4ebff;}#sk-container-id-13 div.sk-label input.sk-toggleable__control:checked~label.sk-toggleable__label {background-color: #d4ebff;}#sk-container-id-13 input.sk-hidden--visually {border: 0;clip: rect(1px 1px 1px 1px);clip: rect(1px, 1px, 1px, 1px);height: 1px;margin: -1px;overflow: hidden;padding: 0;position: absolute;width: 1px;}#sk-container-id-13 div.sk-estimator {font-family: monospace;background-color: #f0f8ff;border: 1px dotted black;border-radius: 0.25em;box-sizing: border-box;margin-bottom: 0.5em;}#sk-container-id-13 div.sk-estimator:hover {background-color: #d4ebff;}#sk-container-id-13 div.sk-parallel-item::after {content: \"\";width: 100%;border-bottom: 1px solid gray;flex-grow: 1;}#sk-container-id-13 div.sk-label:hover label.sk-toggleable__label {background-color: #d4ebff;}#sk-container-id-13 div.sk-serial::before {content: \"\";position: absolute;border-left: 1px solid gray;box-sizing: border-box;top: 0;bottom: 0;left: 50%;z-index: 0;}#sk-container-id-13 div.sk-serial {display: flex;flex-direction: column;align-items: center;background-color: white;padding-right: 0.2em;padding-left: 0.2em;position: relative;}#sk-container-id-13 div.sk-item {position: relative;z-index: 1;}#sk-container-id-13 div.sk-parallel {display: flex;align-items: stretch;justify-content: center;background-color: white;position: relative;}#sk-container-id-13 div.sk-item::before, #sk-container-id-13 div.sk-parallel-item::before {content: \"\";position: absolute;border-left: 1px solid gray;box-sizing: border-box;top: 0;bottom: 0;left: 50%;z-index: -1;}#sk-container-id-13 div.sk-parallel-item {display: flex;flex-direction: column;z-index: 1;position: relative;background-color: white;}#sk-container-id-13 div.sk-parallel-item:first-child::after {align-self: flex-end;width: 50%;}#sk-container-id-13 div.sk-parallel-item:last-child::after {align-self: flex-start;width: 50%;}#sk-container-id-13 div.sk-parallel-item:only-child::after {width: 0;}#sk-container-id-13 div.sk-dashed-wrapped {border: 1px dashed gray;margin: 0 0.4em 0.5em 0.4em;box-sizing: border-box;padding-bottom: 0.4em;background-color: white;}#sk-container-id-13 div.sk-label label {font-family: monospace;font-weight: bold;display: inline-block;line-height: 1.2em;}#sk-container-id-13 div.sk-label-container {text-align: center;}#sk-container-id-13 div.sk-container {/* jupyter's `normalize.less` sets `[hidden] { display: none; }` but bootstrap.min.css set `[hidden] { display: none !important; }` so we also need the `!important` here to be able to override the default hidden behavior on the sphinx rendered scikit-learn.org. See: https://github.com/scikit-learn/scikit-learn/issues/21755 */display: inline-block !important;position: relative;}#sk-container-id-13 div.sk-text-repr-fallback {display: none;}</style><div id=\"sk-container-id-13\" class=\"sk-top-container\"><div class=\"sk-text-repr-fallback\"><pre>RandomForestClassifier(class_weight={0: 1, 1: 4}, max_depth=10,\n",
              "                       min_impurity_decrease=5e-05, min_samples_leaf=4,\n",
              "                       min_samples_split=8, n_estimators=3000, random_state=42,\n",
              "                       warm_start=True)</pre><b>In a Jupyter environment, please rerun this cell to show the HTML representation or trust the notebook. <br />On GitHub, the HTML representation is unable to render, please try loading this page with nbviewer.org.</b></div><div class=\"sk-container\" hidden><div class=\"sk-item\"><div class=\"sk-estimator sk-toggleable\"><input class=\"sk-toggleable__control sk-hidden--visually\" id=\"sk-estimator-id-13\" type=\"checkbox\" checked><label for=\"sk-estimator-id-13\" class=\"sk-toggleable__label sk-toggleable__label-arrow\">RandomForestClassifier</label><div class=\"sk-toggleable__content\"><pre>RandomForestClassifier(class_weight={0: 1, 1: 4}, max_depth=10,\n",
              "                       min_impurity_decrease=5e-05, min_samples_leaf=4,\n",
              "                       min_samples_split=8, n_estimators=3000, random_state=42,\n",
              "                       warm_start=True)</pre></div></div></div></div></div>"
            ]
          },
          "metadata": {},
          "execution_count": 73
        }
      ]
    },
    {
      "cell_type": "code",
      "source": [
        "# Make predictions on the training set\n",
        "y_pred_train = model2.predict(df_x_train_filled)\n",
        "\n",
        "# Calculate the accuracy of the model on the training set\n",
        "accuracy_train = accuracy_score(df_y_train, y_pred_train)\n",
        "\n",
        "# Print the accuracy on the training set\n",
        "print (\"-------Random Forest Results----------\")\n",
        "print(\"Model accuracy on the training set:\", accuracy_train)\n",
        "\n",
        "# Make predictions on the test set\n",
        "y_pred_test = model2.predict(df_x_test_filled)\n",
        "\n",
        "# Calculate the accuracy of the model on the test set\n",
        "accuracy_test = accuracy_score(df_y_test, y_pred_test)\n",
        "\n",
        "# Print the accuracy on the test set\n",
        "print(\"Model accuracy on the test set:\", accuracy_test)\n",
        "\n",
        "# Cross_val\n",
        "# Perform cross-validation on the training set\n",
        "cross_val_scores = cross_val_score(model2, df_x_train_filled, df_y_train, cv=10, scoring=\"accuracy\")\n",
        "cross_val_mean = cross_val_scores.mean()\n",
        "\n",
        "# Print cross-validation accuracy\n",
        "print(\"Model accuracy on the validation set (cross-validation):\", cross_val_mean)\n",
        "\n",
        "# Display the confusion matrix and classification report for the test set\n",
        "conf_matrix = confusion_matrix(df_y_test, y_pred_test)\n",
        "class_report = classification_report(df_y_test, y_pred_test)\n",
        "\n",
        "print('Confusion Matrix for the test set:')\n",
        "print(conf_matrix)\n",
        "\n",
        "plt.figure(figsize=(8, 6))\n",
        "sns.heatmap(conf_matrix, annot=True, fmt='d', cmap='viridis', cbar=False)\n",
        "plt.ylabel('Actual')\n",
        "plt.xlabel('Predicted')\n",
        "plt.title('Confusion Matrix')\n",
        "plt.show()\n",
        "\n",
        "print('\\nClassification Report for the test set:')\n",
        "print(class_report)"
      ],
      "metadata": {
        "id": "H7vDNsErFMUm",
        "colab": {
          "base_uri": "https://localhost:8080/",
          "height": 876
        },
        "outputId": "de58470f-99c4-414c-8aa9-fdb84633ec36"
      },
      "execution_count": 74,
      "outputs": [
        {
          "output_type": "stream",
          "name": "stdout",
          "text": [
            "-------Random Forest Results----------\n",
            "Model accuracy on the training set: 0.9702702702702702\n",
            "Model accuracy on the test set: 0.8588235294117647\n",
            "Model accuracy on the validation set (cross-validation): 0.8162162162162161\n",
            "Confusion Matrix for the test set:\n",
            "[[154  11]\n",
            " [ 25  65]]\n"
          ]
        },
        {
          "output_type": "display_data",
          "data": {
            "text/plain": [
              "<Figure size 800x600 with 1 Axes>"
            ],
            "image/png": "[encoded data removed]"
          },
          "metadata": {}
        },
        {
          "output_type": "stream",
          "name": "stdout",
          "text": [
            "\n",
            "Classification Report for the test set:\n",
            "              precision    recall  f1-score   support\n",
            "\n",
            "           0       0.86      0.93      0.90       165\n",
            "           1       0.86      0.72      0.78        90\n",
            "\n",
            "    accuracy                           0.86       255\n",
            "   macro avg       0.86      0.83      0.84       255\n",
            "weighted avg       0.86      0.86      0.86       255\n",
            "\n"
          ]
        }
      ]
    },
    {
      "cell_type": "markdown",
      "source": [
        "## Modelo 3 (XGBoost)"
      ],
      "metadata": {
        "id": "-yEkEEzPGNsj"
      }
    },
    {
      "cell_type": "code",
      "source": [
        "model3 = xgb.XGBClassifier(learning_rate = 0.005, max_depth = 10, n_estimators = 2000, reg_lambda=0.00005, subsample = 0.6, tree_method = 'auto', scale_pos_weight = 1, seed = 42)"
      ],
      "metadata": {
        "id": "9hc1kq0AGWDA"
      },
      "execution_count": 32,
      "outputs": []
    },
    {
      "cell_type": "code",
      "source": [
        "model3.fit(df_x_train_filled, df_y_train)"
      ],
      "metadata": {
        "id": "PS7qsKiCGWsk",
        "colab": {
          "base_uri": "https://localhost:8080/",
          "height": 248
        },
        "outputId": "42557b7f-fcfb-4dd9-a1b0-68e37c8fed54"
      },
      "execution_count": 33,
      "outputs": [
        {
          "output_type": "execute_result",
          "data": {
            "text/plain": [
              "XGBClassifier(base_score=None, booster=None, callbacks=None,\n",
              "              colsample_bylevel=None, colsample_bynode=None,\n",
              "              colsample_bytree=None, device=None, early_stopping_rounds=None,\n",
              "              enable_categorical=False, eval_metric=None, feature_types=None,\n",
              "              gamma=None, grow_policy=None, importance_type=None,\n",
              "              interaction_constraints=None, learning_rate=0.005, max_bin=None,\n",
              "              max_cat_threshold=None, max_cat_to_onehot=None,\n",
              "              max_delta_step=None, max_depth=10, max_leaves=None,\n",
              "              min_child_weight=None, missing=nan, monotone_constraints=None,\n",
              "              multi_strategy=None, n_estimators=2000, n_jobs=None,\n",
              "              num_parallel_tree=None, random_state=None, ...)"
            ],
            "text/html": [
              "<style>#sk-container-id-3 {color: black;background-color: white;}#sk-container-id-3 pre{padding: 0;}#sk-container-id-3 div.sk-toggleable {background-color: white;}#sk-container-id-3 label.sk-toggleable__label {cursor: pointer;display: block;width: 100%;margin-bottom: 0;padding: 0.3em;box-sizing: border-box;text-align: center;}#sk-container-id-3 label.sk-toggleable__label-arrow:before {content: \"▸\";float: left;margin-right: 0.25em;color: #696969;}#sk-container-id-3 label.sk-toggleable__label-arrow:hover:before {color: black;}#sk-container-id-3 div.sk-estimator:hover label.sk-toggleable__label-arrow:before {color: black;}#sk-container-id-3 div.sk-toggleable__content {max-height: 0;max-width: 0;overflow: hidden;text-align: left;background-color: #f0f8ff;}#sk-container-id-3 div.sk-toggleable__content pre {margin: 0.2em;color: black;border-radius: 0.25em;background-color: #f0f8ff;}#sk-container-id-3 input.sk-toggleable__control:checked~div.sk-toggleable__content {max-height: 200px;max-width: 100%;overflow: auto;}#sk-container-id-3 input.sk-toggleable__control:checked~label.sk-toggleable__label-arrow:before {content: \"▾\";}#sk-container-id-3 div.sk-estimator input.sk-toggleable__control:checked~label.sk-toggleable__label {background-color: #d4ebff;}#sk-container-id-3 div.sk-label input.sk-toggleable__control:checked~label.sk-toggleable__label {background-color: #d4ebff;}#sk-container-id-3 input.sk-hidden--visually {border: 0;clip: rect(1px 1px 1px 1px);clip: rect(1px, 1px, 1px, 1px);height: 1px;margin: -1px;overflow: hidden;padding: 0;position: absolute;width: 1px;}#sk-container-id-3 div.sk-estimator {font-family: monospace;background-color: #f0f8ff;border: 1px dotted black;border-radius: 0.25em;box-sizing: border-box;margin-bottom: 0.5em;}#sk-container-id-3 div.sk-estimator:hover {background-color: #d4ebff;}#sk-container-id-3 div.sk-parallel-item::after {content: \"\";width: 100%;border-bottom: 1px solid gray;flex-grow: 1;}#sk-container-id-3 div.sk-label:hover label.sk-toggleable__label {background-color: #d4ebff;}#sk-container-id-3 div.sk-serial::before {content: \"\";position: absolute;border-left: 1px solid gray;box-sizing: border-box;top: 0;bottom: 0;left: 50%;z-index: 0;}#sk-container-id-3 div.sk-serial {display: flex;flex-direction: column;align-items: center;background-color: white;padding-right: 0.2em;padding-left: 0.2em;position: relative;}#sk-container-id-3 div.sk-item {position: relative;z-index: 1;}#sk-container-id-3 div.sk-parallel {display: flex;align-items: stretch;justify-content: center;background-color: white;position: relative;}#sk-container-id-3 div.sk-item::before, #sk-container-id-3 div.sk-parallel-item::before {content: \"\";position: absolute;border-left: 1px solid gray;box-sizing: border-box;top: 0;bottom: 0;left: 50%;z-index: -1;}#sk-container-id-3 div.sk-parallel-item {display: flex;flex-direction: column;z-index: 1;position: relative;background-color: white;}#sk-container-id-3 div.sk-parallel-item:first-child::after {align-self: flex-end;width: 50%;}#sk-container-id-3 div.sk-parallel-item:last-child::after {align-self: flex-start;width: 50%;}#sk-container-id-3 div.sk-parallel-item:only-child::after {width: 0;}#sk-container-id-3 div.sk-dashed-wrapped {border: 1px dashed gray;margin: 0 0.4em 0.5em 0.4em;box-sizing: border-box;padding-bottom: 0.4em;background-color: white;}#sk-container-id-3 div.sk-label label {font-family: monospace;font-weight: bold;display: inline-block;line-height: 1.2em;}#sk-container-id-3 div.sk-label-container {text-align: center;}#sk-container-id-3 div.sk-container {/* jupyter's `normalize.less` sets `[hidden] { display: none; }` but bootstrap.min.css set `[hidden] { display: none !important; }` so we also need the `!important` here to be able to override the default hidden behavior on the sphinx rendered scikit-learn.org. See: https://github.com/scikit-learn/scikit-learn/issues/21755 */display: inline-block !important;position: relative;}#sk-container-id-3 div.sk-text-repr-fallback {display: none;}</style><div id=\"sk-container-id-3\" class=\"sk-top-container\"><div class=\"sk-text-repr-fallback\"><pre>XGBClassifier(base_score=None, booster=None, callbacks=None,\n",
              "              colsample_bylevel=None, colsample_bynode=None,\n",
              "              colsample_bytree=None, device=None, early_stopping_rounds=None,\n",
              "              enable_categorical=False, eval_metric=None, feature_types=None,\n",
              "              gamma=None, grow_policy=None, importance_type=None,\n",
              "              interaction_constraints=None, learning_rate=0.005, max_bin=None,\n",
              "              max_cat_threshold=None, max_cat_to_onehot=None,\n",
              "              max_delta_step=None, max_depth=10, max_leaves=None,\n",
              "              min_child_weight=None, missing=nan, monotone_constraints=None,\n",
              "              multi_strategy=None, n_estimators=2000, n_jobs=None,\n",
              "              num_parallel_tree=None, random_state=None, ...)</pre><b>In a Jupyter environment, please rerun this cell to show the HTML representation or trust the notebook. <br />On GitHub, the HTML representation is unable to render, please try loading this page with nbviewer.org.</b></div><div class=\"sk-container\" hidden><div class=\"sk-item\"><div class=\"sk-estimator sk-toggleable\"><input class=\"sk-toggleable__control sk-hidden--visually\" id=\"sk-estimator-id-3\" type=\"checkbox\" checked><label for=\"sk-estimator-id-3\" class=\"sk-toggleable__label sk-toggleable__label-arrow\">XGBClassifier</label><div class=\"sk-toggleable__content\"><pre>XGBClassifier(base_score=None, booster=None, callbacks=None,\n",
              "              colsample_bylevel=None, colsample_bynode=None,\n",
              "              colsample_bytree=None, device=None, early_stopping_rounds=None,\n",
              "              enable_categorical=False, eval_metric=None, feature_types=None,\n",
              "              gamma=None, grow_policy=None, importance_type=None,\n",
              "              interaction_constraints=None, learning_rate=0.005, max_bin=None,\n",
              "              max_cat_threshold=None, max_cat_to_onehot=None,\n",
              "              max_delta_step=None, max_depth=10, max_leaves=None,\n",
              "              min_child_weight=None, missing=nan, monotone_constraints=None,\n",
              "              multi_strategy=None, n_estimators=2000, n_jobs=None,\n",
              "              num_parallel_tree=None, random_state=None, ...)</pre></div></div></div></div></div>"
            ]
          },
          "metadata": {},
          "execution_count": 33
        }
      ]
    },
    {
      "cell_type": "code",
      "source": [
        "# Make predictions on the training set\n",
        "y_pred_train = model3.predict(df_x_train_filled)\n",
        "\n",
        "# Calculate the accuracy of the model on the training set\n",
        "accuracy_train = accuracy_score(df_y_train, y_pred_train)\n",
        "\n",
        "# Print the accuracy on the training set\n",
        "print (\"-------XGBoost Results----------\")\n",
        "print(\"Model accuracy on the training set:\", accuracy_train)\n",
        "\n",
        "# Make predictions on the test set\n",
        "y_pred_test = model3.predict(df_x_test_filled)\n",
        "\n",
        "# Calculate the accuracy of the model on the test set\n",
        "accuracy_test = accuracy_score(df_y_test, y_pred_test)\n",
        "\n",
        "# Print the accuracy on the test set\n",
        "print(\"Model accuracy on the test set:\", accuracy_test)\n",
        "\n",
        "# Cross_val\n",
        "# Perform cross-validation on the training set\n",
        "cross_val_scores = cross_val_score(model3, df_x_train_filled, df_y_train, cv=5, scoring=\"accuracy\")\n",
        "cross_val_mean = cross_val_scores.mean()\n",
        "\n",
        "# Print cross-validation accuracy\n",
        "print(\"Model accuracy on the validation set (cross-validation):\", cross_val_mean)\n",
        "\n",
        "# Display the confusion matrix and classification report for the test set\n",
        "conf_matrix = confusion_matrix(df_y_test, y_pred_test)\n",
        "class_report = classification_report(df_y_test, y_pred_test)\n",
        "\n",
        "print('Confusion Matrix for the test set:')\n",
        "print(conf_matrix)\n",
        "\n",
        "plt.figure(figsize=(8, 6))\n",
        "sns.heatmap(conf_matrix, annot=True, fmt='d', cmap='viridis', cbar=False)\n",
        "plt.ylabel('Actual')\n",
        "plt.xlabel('Predicted')\n",
        "plt.title('Confusion Matrix')\n",
        "plt.show()\n",
        "\n",
        "print('\\nClassification Report for the test set:')\n",
        "print(class_report)"
      ],
      "metadata": {
        "id": "40kOecdIGWgm",
        "colab": {
          "base_uri": "https://localhost:8080/",
          "height": 876
        },
        "outputId": "9a93d472-814d-4696-8417-335801823632"
      },
      "execution_count": 34,
      "outputs": [
        {
          "output_type": "stream",
          "name": "stdout",
          "text": [
            "-------XGBoost Results----------\n",
            "Model accuracy on the training set: 1.0\n",
            "Model accuracy on the test set: 0.8392156862745098\n",
            "Model accuracy on the validation set (cross-validation): 0.8108108108108109\n",
            "Confusion Matrix for the test set:\n",
            "[[154  11]\n",
            " [ 30  60]]\n"
          ]
        },
        {
          "output_type": "display_data",
          "data": {
            "text/plain": [
              "<Figure size 800x600 with 1 Axes>"
            ],
            "image/png": "[encoded data removed]"
          },
          "metadata": {}
        },
        {
          "output_type": "stream",
          "name": "stdout",
          "text": [
            "\n",
            "Classification Report for the test set:\n",
            "              precision    recall  f1-score   support\n",
            "\n",
            "           0       0.84      0.93      0.88       165\n",
            "           1       0.85      0.67      0.75        90\n",
            "\n",
            "    accuracy                           0.84       255\n",
            "   macro avg       0.84      0.80      0.81       255\n",
            "weighted avg       0.84      0.84      0.83       255\n",
            "\n"
          ]
        }
      ]
    }
  ]
}